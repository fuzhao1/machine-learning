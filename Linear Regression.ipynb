{
 "cells": [
  {
   "cell_type": "code",
   "execution_count": 55,
   "metadata": {
    "collapsed": false
   },
   "outputs": [
    {
     "name": "stdout",
     "output_type": "stream",
     "text": [
      "DatetimeIndex(['2013-01-01', '2013-01-02', '2013-01-03', '2013-01-04',\n",
      "               '2013-01-05', '2013-01-06'],\n",
      "              dtype='datetime64[ns]', freq='D')\n",
      "                   A         B         C         D\n",
      "2013-01-01  0.722740  0.285773 -0.375605  1.413222\n",
      "2013-01-02 -0.975381 -1.615294 -0.173129 -0.555998\n",
      "2013-01-03  0.905550 -0.363970  1.213801 -1.078687\n",
      "2013-01-04 -1.311842  0.677762 -0.316640  0.409771\n",
      "2013-01-05 -0.621522  0.433279  0.314991 -0.562124\n",
      "2013-01-06 -2.615491  1.205847 -0.621873  1.224671\n"
     ]
    }
   ],
   "source": [
    "#demo of pandas\n",
    "import pandas as pd\n",
    "dates=pd.date_range('20130101', periods=6)\n",
    "print dates\n",
    "\n",
    "#LIST() can take sequences parameters, including list, tuple and str\n",
    "df = pd.DataFrame(np.random.randn(6,4), index=dates, columns=list(\"ABCD\"))\n",
    "print df"
   ]
  },
  {
   "cell_type": "code",
   "execution_count": 76,
   "metadata": {
    "collapsed": false
   },
   "outputs": [
    {
     "name": "stdout",
     "output_type": "stream",
     "text": [
      "a    4\n",
      "b    5\n",
      "c    6\n",
      "Name: 1, dtype: int64\n"
     ]
    }
   ],
   "source": [
    "import pandas as pd  \n",
    "data = [[1,2,3],[4,5,6]]  \n",
    "index = [0,1]  \n",
    "columns=['a','b','c']  \n",
    "df = pd.DataFrame(data=data, index=index, columns=columns)  \n",
    "print df.loc[1]  \n"
   ]
  },
  {
   "cell_type": "code",
   "execution_count": 57,
   "metadata": {
    "collapsed": false
   },
   "outputs": [
    {
     "name": "stdout",
     "output_type": "stream",
     "text": [
      "         Date    Value\n",
      "0  2006-04-05  1311.56\n",
      "1  2006-04-06  1309.04\n",
      "2  2006-04-07  1295.50\n",
      "3  2006-04-10  1296.60\n",
      "4  2006-04-11  1286.57\n",
      "5  2006-04-12  1288.12\n",
      "6  2006-04-13  1289.12\n",
      "7  2006-04-14     0.00\n",
      "8  2006-04-17  1285.33\n",
      "9  2006-04-18  1307.65\n",
      "Date      object\n",
      "Value    float64\n",
      "dtype: object (2611, 2)\n"
     ]
    }
   ],
   "source": [
    "# Linear regression\n",
    "import pandas as pd\n",
    "\n",
    "# load the sameple dataset\n",
    "sp = pandas.read_csv('sp500.csv')\n",
    "print sp[:10]\n",
    "print (sp.dtypes),sp.shape"
   ]
  },
  {
   "cell_type": "code",
   "execution_count": 63,
   "metadata": {
    "collapsed": false
   },
   "outputs": [
    {
     "name": "stdout",
     "output_type": "stream",
     "text": [
      "          Date    Value  next_day\n",
      "0   2006-04-05  1311.56   1309.04\n",
      "1   2006-04-06  1309.04   1295.50\n",
      "2   2006-04-07  1295.50   1296.60\n",
      "3   2006-04-10  1296.60   1286.57\n",
      "4   2006-04-11  1286.57   1288.12\n",
      "5   2006-04-12  1288.12   1289.12\n",
      "6   2006-04-13  1289.12   1285.33\n",
      "8   2006-04-17  1285.33   1307.65\n",
      "9   2006-04-18  1307.65   1309.93\n",
      "10  2006-04-19  1309.93   1311.46\n",
      "Date         object\n",
      "Value       float64\n",
      "next_day    float64\n",
      "dtype: object\n"
     ]
    }
   ],
   "source": [
    "# delete meaningless data\n",
    "sp500=sp[sp['Value'] != 0.00]\n",
    "next_day= sp500['Value'].iloc[1:]\n",
    "\n",
    "sp500=sp500.iloc[:sp500.shape[0]-1, :]\n",
    "sp500['next_day']=next_day.values\n",
    "print sp500[:10]\n",
    "print (sp500.dtypes)"
   ]
  },
  {
   "cell_type": "code",
   "execution_count": 72,
   "metadata": {
    "collapsed": false
   },
   "outputs": [
    {
     "data": {
      "text/html": [
       "<div>\n",
       "<table border=\"1\" class=\"dataframe\">\n",
       "  <thead>\n",
       "    <tr style=\"text-align: right;\">\n",
       "      <th></th>\n",
       "      <th>Date</th>\n",
       "      <th>Value</th>\n",
       "      <th>next_day</th>\n",
       "    </tr>\n",
       "  </thead>\n",
       "  <tbody>\n",
       "    <tr>\n",
       "      <th>0</th>\n",
       "      <td>2006-04-05</td>\n",
       "      <td>1311.56</td>\n",
       "      <td>1309.04</td>\n",
       "    </tr>\n",
       "    <tr>\n",
       "      <th>1</th>\n",
       "      <td>2006-04-06</td>\n",
       "      <td>1309.04</td>\n",
       "      <td>1295.50</td>\n",
       "    </tr>\n",
       "    <tr>\n",
       "      <th>2</th>\n",
       "      <td>2006-04-07</td>\n",
       "      <td>1295.50</td>\n",
       "      <td>1296.60</td>\n",
       "    </tr>\n",
       "    <tr>\n",
       "      <th>3</th>\n",
       "      <td>2006-04-10</td>\n",
       "      <td>1296.60</td>\n",
       "      <td>1286.57</td>\n",
       "    </tr>\n",
       "    <tr>\n",
       "      <th>4</th>\n",
       "      <td>2006-04-11</td>\n",
       "      <td>1286.57</td>\n",
       "      <td>1288.12</td>\n",
       "    </tr>\n",
       "    <tr>\n",
       "      <th>5</th>\n",
       "      <td>2006-04-12</td>\n",
       "      <td>1288.12</td>\n",
       "      <td>1289.12</td>\n",
       "    </tr>\n",
       "    <tr>\n",
       "      <th>6</th>\n",
       "      <td>2006-04-13</td>\n",
       "      <td>1289.12</td>\n",
       "      <td>1285.33</td>\n",
       "    </tr>\n",
       "  </tbody>\n",
       "</table>\n",
       "</div>"
      ],
      "text/plain": [
       "         Date    Value  next_day\n",
       "0  2006-04-05  1311.56   1309.04\n",
       "1  2006-04-06  1309.04   1295.50\n",
       "2  2006-04-07  1295.50   1296.60\n",
       "3  2006-04-10  1296.60   1286.57\n",
       "4  2006-04-11  1286.57   1288.12\n",
       "5  2006-04-12  1288.12   1289.12\n",
       "6  2006-04-13  1289.12   1285.33"
      ]
     },
     "execution_count": 72,
     "metadata": {},
     "output_type": "execute_result"
    }
   ],
   "source": [
    "#index in pandas\n",
    "\n",
    "#loc works on labels in the index, error happens in the below, 7 label is not exist\n",
    "#sp500.loc[7,]\n",
    "\n",
    "#iloc works on the positions in the index (so it only takes integers).\n",
    "sp500.iloc[7,]\n",
    "\n",
    "#ix usually tries to behave like loc but falls back to behaving like iloc if the label is not in the index. In\n",
    "#the 2nd scenario, index need to be mixed type rather than purely interger type, otherwise, key error occurs\n",
    "sp500.ix[:7,]"
   ]
  },
  {
   "cell_type": "code",
   "execution_count": 79,
   "metadata": {
    "collapsed": true
   },
   "outputs": [],
   "source": [
    "import numpy as np\n",
    "np.random.seed(1)\n",
    "sp=sp500.loc[np.random.permutation(sp500.index)]"
   ]
  },
  {
   "cell_type": "code",
   "execution_count": 80,
   "metadata": {
    "collapsed": false
   },
   "outputs": [
    {
     "name": "stdout",
     "output_type": "stream",
     "text": [
      "[ 1987.04482489  1399.28792145  1374.46030223 ...,  1084.09509856\n",
      "  1387.50379783  1092.52089687]\n"
     ]
    }
   ],
   "source": [
    "# import linear regression model\n",
    "from sklearn.linear_model import LinearRegression\n",
    "\n",
    "#initialization\n",
    "regressor = LinearRegression()\n",
    "\n",
    "# predictor is a data frame rather than a series\n",
    "predictor = sp[['Value']] # Dataframe\n",
    "to_predict = sp['next_day'] # Series\n",
    "\n",
    "# train the linear regression\n",
    "regressor.fit(predictor, to_predict)\n",
    "\n",
    "# test\n",
    "c = regressor.predict(predictor)\n",
    "print(next_day_pred)"
   ]
  },
  {
   "cell_type": "code",
   "execution_count": 83,
   "metadata": {
    "collapsed": false
   },
   "outputs": [
    {
     "name": "stdout",
     "output_type": "stream",
     "text": [
      "264.521296401\n",
      "16.2641106858\n",
      "11.348395375\n"
     ]
    }
   ],
   "source": [
    "# Evaluation\n",
    "import math\n",
    "mse = sum((to_predict - next_day_pred) ** 2) / len(next_day_pred)\n",
    "print mse\n",
    "rmse = math.sqrt(sum((to_predict - next_day_pred) ** 2) / len(next_day_pred))\n",
    "print rmse\n",
    "mae = sum(abs(to_predict - next_day_pred)) / len(next_day_pred)\n",
    "print mae"
   ]
  },
  {
   "cell_type": "code",
   "execution_count": 88,
   "metadata": {
    "collapsed": false
   },
   "outputs": [
    {
     "data": {
      "image/png": "[encoded data removed]",
      "text/plain": [
       "<matplotlib.figure.Figure at 0x7fbf7f9f2910>"
      ]
     },
     "metadata": {},
     "output_type": "display_data"
    }
   ],
   "source": [
    "import matplotlib.pyplot as plt\n",
    "\n",
    "plt.scatter(sp['Value'], sp['next_day'])\n",
    "plt.show()"
   ]
  },
  {
   "cell_type": "code",
   "execution_count": 91,
   "metadata": {
    "collapsed": false
   },
   "outputs": [
    {
     "data": {
      "text/plain": [
       "268.77155764396707"
      ]
     },
     "execution_count": 91,
     "metadata": {},
     "output_type": "execute_result"
    }
   ],
   "source": [
    "# The other way to check the classifier is split the dataset into a 80% training set and 20% testing dataset\n",
    "spliting_index = int(sp.shape[0] * 0.8)\n",
    "training_set = sp.iloc[:spliting_index]\n",
    "\n",
    "#testing set\n",
    "testing_set = sp.iloc[spliting_index:]\n",
    "regressor = LinearRegression()\n",
    "\n",
    "#training the classfier with training dataset\n",
    "pred = training_set[['Value']]\n",
    "to_pred = training_set['next_day']\n",
    "regressor.fit(pred, to_pred)\n",
    "\n",
    "#testing the classfier\n",
    "prediction = regressor.predict(testing_set[['Value']])\n",
    "mse = sum((prediction-testing_set['next_day']) ** 2) / len(prediction)\n",
    "mse"
   ]
  },
  {
   "cell_type": "code",
   "execution_count": 103,
   "metadata": {
    "collapsed": false
   },
   "outputs": [
    {
     "name": "stdout",
     "output_type": "stream",
     "text": [
      "['setosa' 'versicolor' 'virginica']\n",
      "150\n"
     ]
    }
   ],
   "source": [
    "# sklearn.naive_bayes\n",
    "from sklearn import datasets\n",
    "\n",
    "#http://scikit-learn.org/stable/modules/generated/sklearn.datasets.load_iris.html\n",
    "#Load and return the iris dataset (classification).\n",
    "iris = datasets.load_iris()\n",
    "print iris.target_names\n",
    "print len(iris.data)"
   ]
  },
  {
   "cell_type": "code",
   "execution_count": 106,
   "metadata": {
    "collapsed": false
   },
   "outputs": [
    {
     "name": "stdout",
     "output_type": "stream",
     "text": [
      "mislabled 6 over 150\n"
     ]
    }
   ],
   "source": [
    "#http://scikit-learn.org/stable/modules/generated/sklearn.naive_bayes.GaussianNB.html\n",
    "#classification based on naive_bayes algorithm\n",
    "\n",
    "from sklearn.naive_bayes import GaussianNB\n",
    "gnb = GaussianNB()\n",
    "y_pred = gnb.fit(iris.data, iris.target).predict(iris.data)\n",
    "print(\"mislabled %d over %d\" % ((iris.target != y_pred).sum(), iris.data.shape[0]))"
   ]
  },
  {
   "cell_type": "code",
   "execution_count": 110,
   "metadata": {
    "collapsed": false
   },
   "outputs": [
    {
     "name": "stdout",
     "output_type": "stream",
     "text": [
      "[  4.45935044e-16   3.00000000e+00   2.00000000e+00   1.00000000e+00]\n"
     ]
    },
    {
     "data": {
      "image/png": "[encoded data removed]",
      "text/plain": [
       "<matplotlib.figure.Figure at 0x7fbf78f3ab50>"
      ]
     },
     "metadata": {},
     "output_type": "display_data"
    }
   ],
   "source": [
    "#a demo for polynomial relation\n",
    "import numpy as np\n",
    "import matplotlib.pyplot as plt\n",
    "\n",
    "x = [0,  1,  2,  3,  4,  5,  6,  7,  8,  9, 10]\n",
    "y = [1,   6,  17,  34,  57,  86, 121, 162, 209, 262, 321]\n",
    "coefs = np.polyfit(x,y,deg=3)\n",
    "print coefs\n",
    "\n",
    "#visualize the polynomial relation\n",
    "m = [0 for i in range(len(x))]\n",
    "for i in range(len(x)):\n",
    "    m[i] = 3 * x[i] * x[i] + 2 * x[i] +1\n",
    "plt.plot(x, m)\n",
    "plt.show()"
   ]
  }
 ],
 "metadata": {
  "kernelspec": {
   "display_name": "Python 2",
   "language": "python",
   "name": "python2"
  },
  "language_info": {
   "codemirror_mode": {
    "name": "ipython",
    "version": 2
   },
   "file_extension": ".py",
   "mimetype": "text/x-python",
   "name": "python",
   "nbconvert_exporter": "python",
   "pygments_lexer": "ipython2",
   "version": "2.7.12"
  }
 },
 "nbformat": 4,
 "nbformat_minor": 0
}

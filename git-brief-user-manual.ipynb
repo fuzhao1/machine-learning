{
 "cells": [
  {
   "cell_type": "markdown",
   "metadata": {},
   "source": [
    "### Project Upload\n",
    "\n",
    "There are 5 steps to upload a local project to github.com\n",
    "\n",
    "\n",
    "Step 1: There must exists a repository with the same name with the dirctory\n",
    "```\n",
    "git init\n",
    "```\n",
    "\n",
    "Step 2: Upload single or multiple files\n",
    "```\n",
    "git add .\n",
    "git add filename\n",
    "```\n",
    "\n",
    "Step 3: Commit your changes\n",
    "```\n",
    "git commit -m \"Add all my files in this directory\"\n",
    "git commit -m \"Adding Files\"\n",
    "```\n",
    "\n",
    "Step 4: Choose remote repository, Merge into the current branch the remote branch master(can be other branch):\n",
    "\n",
    "```\n",
    "git remote add origin https://github.com/yourusername/your-repo-name.git\n",
    "```\n",
    "\n",
    "or\n",
    "\n",
    "```\n",
    "git pull origin master\n",
    "```\n",
    "\n",
    "Step 5: Push(upload) commited files\n",
    "```\n",
    "git push origin master\n",
    "```"
   ]
  }
 ],
 "metadata": {
  "kernelspec": {
   "display_name": "Python 2",
   "language": "python",
   "name": "python2"
  },
  "language_info": {
   "codemirror_mode": {
    "name": "ipython",
    "version": 2
   },
   "file_extension": ".py",
   "mimetype": "text/x-python",
   "name": "python",
   "nbconvert_exporter": "python",
   "pygments_lexer": "ipython2",
   "version": "2.7.12"
  }
 },
 "nbformat": 4,
 "nbformat_minor": 1
}

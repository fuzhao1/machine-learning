{
 "cells": [
  {
   "cell_type": "markdown",
   "metadata": {},
   "source": [
    "### Problem Definition\n",
    "In this homework, I will use today's open, close, highest and lowest stock price to predict tomorrow's closing price.\n",
    "\n",
    "Input: today's open, close, highest and lowest price from Apple, IBM, Amazon and Google\n",
    "\n",
    "Output: tomorrow's closing price of corresponding input\n",
    "\n",
    "Algorithm: multivariate linear regression model in Sklearn, user-defined gradient descent and tensorflow multivariate regression\n",
    "\n",
    "Evaluation Model: Root Mean Square Error"
   ]
  },
  {
   "cell_type": "markdown",
   "metadata": {},
   "source": [
    "### Model 1: Multivariate Linear Regression in Sklearn\n",
    "#### Case 1: Apple"
   ]
  },
  {
   "cell_type": "code",
   "execution_count": 1,
   "metadata": {
    "collapsed": true
   },
   "outputs": [],
   "source": [
    "import pandas as pd\n",
    "\n",
    "# load Apple stock price data, from: https://finance.yahoo.com/\n",
    "data = pd.read_csv(\"AAPL.csv\")\n",
    "\n",
    "# add the closing price of next day as a new column\n",
    "nextDayClosing = data[\"Close\"].iloc[1:]\n",
    "\n",
    "# delete last day wich has no closing price of next day\n",
    "data = data.iloc[:-1,]\n",
    "\n",
    "# add new column, named \"NextDay\", in the new pandas dataframe\n",
    "data[\"NextDay\"] = nextDayClosing.values\n",
    "\n",
    "# randomize the dataset to eleminate time seriers effect\n",
    "from sklearn.utils import shuffle\n",
    "data = shuffle(data)\n",
    "\n",
    "# another way to randomize dataset\n",
    "# data.sample(frac=1)"
   ]
  },
  {
   "cell_type": "code",
   "execution_count": 2,
   "metadata": {},
   "outputs": [
    {
     "data": {
      "text/plain": [
       "((200, 4), (200, 1))"
      ]
     },
     "execution_count": 2,
     "metadata": {},
     "output_type": "execute_result"
    }
   ],
   "source": [
    "# record input and output data set, X and y\n",
    "X = data.iloc[:,1:5]\n",
    "y = data.iloc[:,7:]\n",
    "\n",
    "# transform to numpy matrix for efficient computation\n",
    "import numpy as np\n",
    "X = np.matrix(X)\n",
    "y = np.matrix(y)\n",
    "\n",
    "# another way to record y\n",
    "# y= data[\"NextDay\"].values\n",
    "# y = np.matrix(y).T\n",
    "\n",
    "# split into a 200 and 50 traning and testing dataset\n",
    "X_train = X[:200]\n",
    "y_train = y[:200,:]\n",
    "X_test = X[200:]\n",
    "y_test = y[200:]\n",
    "\n",
    "# Verify the size of dataset\n",
    "X_train.shape, y_train.shape"
   ]
  },
  {
   "cell_type": "code",
   "execution_count": 3,
   "metadata": {},
   "outputs": [
    {
     "name": "stdout",
     "output_type": "stream",
     "text": [
      "Training RMSE: [ 1.42408951] and Testing RMSE: [ 1.65899197]\n"
     ]
    }
   ],
   "source": [
    "from sklearn import linear_model\n",
    "\n",
    "# create linear regression model\n",
    "model = linear_model.LinearRegression()\n",
    "\n",
    "# training model\n",
    "model.fit(X_train, y_train)\n",
    "\n",
    "# verifying and testing model \n",
    "y_pred = model.predict(X_test)\n",
    "# use traning data as verifying data\n",
    "verify = model.predict(X_train)\n",
    "\n",
    "# calculate training and testing root mean square error\n",
    "train_rmse = np.sqrt(sum(np.asarray(verify - y_train) ** 2) / len(y_train))\n",
    "test_rmse = np.sqrt(sum(np.asarray(y_pred - y_test) ** 2) / len(y_pred))\n",
    "print(\"Training RMSE: {0} and Testing RMSE: {1}\".format(train_rmse, test_rmse))"
   ]
  },
  {
   "cell_type": "code",
   "execution_count": 4,
   "metadata": {},
   "outputs": [
    {
     "data": {
      "image/png": "[encoded data removed]",
      "text/plain": [
       "<matplotlib.figure.Figure at 0x7fcf7de21c50>"
      ]
     },
     "metadata": {},
     "output_type": "display_data"
    }
   ],
   "source": [
    "import matplotlib.pyplot as plt\n",
    "\n",
    "# plot the True(red) and prediction(blue) value\n",
    "plt.scatter(range(50), y_test, c = 'r', label='True Value')\n",
    "plt.scatter(range(50), y_pred, c = 'blue', label='Prediction Value')\n",
    "plt.legend(loc = 1)\n",
    "plt.show()"
   ]
  },
  {
   "cell_type": "markdown",
   "metadata": {
    "collapsed": true
   },
   "source": [
    "### Model 2: Multivariate Linear Regression by User-defined Gradient Descent\n",
    "#### Case 2: Amazon"
   ]
  },
  {
   "cell_type": "code",
   "execution_count": 5,
   "metadata": {
    "collapsed": true
   },
   "outputs": [],
   "source": [
    "import pandas as pd\n",
    "\n",
    "# load Apple stock price data, from: https://finance.yahoo.com/\n",
    "data = pd.read_csv(\"AMZN.csv\")\n",
    "\n",
    "# add the closing price of next day as a new column\n",
    "nextDayClosing = data[\"Close\"].iloc[1:]\n",
    "\n",
    "# delete last day wich has no closing price of next day\n",
    "data = data.iloc[:-1,]\n",
    "\n",
    "# add new column, named \"NextDay\", in the new pandas dataframe\n",
    "data[\"NextDay\"] = nextDayClosing.values\n",
    "\n",
    "# randomize the dataset to eleminate time seriers effect\n",
    "from sklearn.utils import shuffle\n",
    "data = shuffle(data)\n",
    "\n",
    "# another way to randomize dataset\n",
    "# data.sample(frac=1)"
   ]
  },
  {
   "cell_type": "code",
   "execution_count": 6,
   "metadata": {},
   "outputs": [
    {
     "data": {
      "text/plain": [
       "((200, 5), (200, 1))"
      ]
     },
     "execution_count": 6,
     "metadata": {},
     "output_type": "execute_result"
    }
   ],
   "source": [
    "# record input and output data set, X and y are divided by 1000 to avoid overflowing problem\n",
    "X = data.iloc[:,1:5] / 1000\n",
    "#X = (X - X.mean()) / X.std()  \n",
    "y = data.iloc[:,7:] / 1000\n",
    "#y = (y - y.mean()) / y.std()  \n",
    "\n",
    "# add constant parameter in the first column of dataframe X\n",
    "X.insert(0, \"Constant\", 1)\n",
    "\n",
    "# transform to numpy matrix for efficient computation\n",
    "import numpy as np\n",
    "X = np.matrix(X)\n",
    "y = np.matrix(y)\n",
    "\n",
    "# another way to record y\n",
    "# y= data[\"NextDay\"].values\n",
    "# y = np.matrix(y).T\n",
    "\n",
    "# split into a 200 and 50 traning and testing dataset\n",
    "X_train = X[:200]\n",
    "y_train = y[:200,:]\n",
    "X_test = X[200:]\n",
    "y_test = y[200:]\n",
    "\n",
    "# Verify the size of dataset\n",
    "X_train.shape, y_train.shape"
   ]
  },
  {
   "cell_type": "markdown",
   "metadata": {},
   "source": [
    "### Squared Error in Linear Model\n",
    "#### Error Model\n",
    "\\begin{equation*}\n",
    "Error = \\frac{1}{2m} \\sum_{i=1}^m (f(X_i) - y_i)^2 \\\\\n",
    "= \\frac{1}{2m} \\sum_{i=1}^m (y_i-(mX_i+b))^2 \n",
    "\\end{equation*}\n",
    "\n",
    "#### Partial Derivative\n",
    "\\begin{equation*}\n",
    "\\frac{\\partial Error}{\\partial m} = \\frac{1}{m} \\sum_{i=1}^m -X_i(y_i-(mX_i+b)) \\\\\n",
    "\\frac{\\partial Error}{\\partial b} = \\frac{1}{m} \\sum_{i=1}^m -(y_i-(mX_i+b))\n",
    "\\end{equation*}"
   ]
  },
  {
   "cell_type": "code",
   "execution_count": 7,
   "metadata": {},
   "outputs": [
    {
     "name": "stdout",
     "output_type": "stream",
     "text": [
      "Train error: 6.82947819672e-05 and Test error: 4.2974015993e-05\n"
     ]
    }
   ],
   "source": [
    "# http://www.johnwittenauer.net/machine-learning-exercises-in-python-part-1/\n",
    "# These code are implemented by other codes and I learned it\n",
    "\n",
    "# Initialization\n",
    "theta = np.matrix(np.array([0,0,0,0,0])) \n",
    "alpha = 0.1\n",
    "iters = 20000\n",
    "\n",
    "# Error measurement\n",
    "def computeCost(X, y, theta):  \n",
    "    inner = np.power(((X * theta.T) - y), 2)\n",
    "    return np.sum(inner) / (2 * len(X))\n",
    "\n",
    "# Gradient descent algorithm in multivariate regression\n",
    "def gradientDescent(X, y, theta, alpha, iters):  \n",
    "    temp = np.matrix(np.zeros(theta.shape))\n",
    "    parameters = int(theta.ravel().shape[1])\n",
    "    cost = np.zeros(iters)\n",
    "\n",
    "    for i in range(iters):\n",
    "        error = (X * theta.T) - y\n",
    "\n",
    "        for j in range(parameters):\n",
    "            term = np.multiply(error, X[:,j])\n",
    "            temp[0,j] = theta[0,j] - ((alpha / len(X)) * np.sum(term))\n",
    "\n",
    "        theta = temp\n",
    "        cost[i] = computeCost(X, y, theta)\n",
    "\n",
    "    return theta, cost\n",
    "\n",
    "# training the model\n",
    "train_theta, train_error = gradientDescent(X_train, y_train, theta, alpha, iters)\n",
    "# testing the model\n",
    "test_error = computeCost(X_test, y_test, train_theta)\n",
    "print(\"Train error: {0} and Test error: {1}\".format(train_error[-1], test_error))"
   ]
  },
  {
   "cell_type": "code",
   "execution_count": 8,
   "metadata": {},
   "outputs": [
    {
     "name": "stdout",
     "output_type": "stream",
     "text": [
      "Train RMSE: [ 11.6871538] and Test RMSE: [ 9.27081614]\n"
     ]
    },
    {
     "data": {
      "image/png": "[encoded data removed]",
      "text/plain": [
       "<matplotlib.figure.Figure at 0x7fcf75423e50>"
      ]
     },
     "metadata": {},
     "output_type": "display_data"
    }
   ],
   "source": [
    "# recover data\n",
    "y_pred = X_test * train_theta.T * 1000\n",
    "y_test = y_test * 1000\n",
    "verify = X_train * train_theta.T * 1000\n",
    "y_train = y_train * 1000\n",
    "train_rmse = np.sqrt(sum(np.asarray(verify - y_train) ** 2) / len(y_train))\n",
    "test_rmse = np.sqrt(sum(np.asarray(y_pred - y_test) ** 2) / len(y_pred))\n",
    "print(\"Train RMSE: {0} and Test RMSE: {1}\".format(train_rmse, test_rmse))\n",
    "\n",
    "import matplotlib.pyplot as plt\n",
    "\n",
    "# plot the True(red) and prediction(blue) value\n",
    "plt.scatter(range(50), y_test, c = 'r', label='True Value')\n",
    "plt.scatter(range(50), y_pred, c = 'blue', label='Prediction Value')\n",
    "plt.legend(loc = 1)\n",
    "plt.show()"
   ]
  },
  {
   "cell_type": "code",
   "execution_count": 9,
   "metadata": {},
   "outputs": [
    {
     "data": {
      "image/png": "[encoded data removed]",
      "text/plain": [
       "<matplotlib.figure.Figure at 0x7fcf754f2f90>"
      ]
     },
     "metadata": {},
     "output_type": "display_data"
    }
   ],
   "source": [
    "# Gradient descent error analysis, 1-10 fast, then slow down\n",
    "import matplotlib.pyplot as plt\n",
    "plt.subplot(121)\n",
    "plt.plot(train_error[:10])\n",
    "plt.title(\"Stage 1: Fast Descent\")\n",
    "plt.subplot(122)\n",
    "plt.plot(train_error[10:-1])\n",
    "plt.title(\"Stage 2: Slow Descent\")\n",
    "plt.tight_layout()\n",
    "plt.show()"
   ]
  },
  {
   "cell_type": "markdown",
   "metadata": {},
   "source": [
    "### Model 3: Multivariate Linear Regression in Tensorflow\n",
    "#### Case 3: Google"
   ]
  },
  {
   "cell_type": "code",
   "execution_count": 10,
   "metadata": {
    "collapsed": true
   },
   "outputs": [],
   "source": [
    "import pandas as pd\n",
    "\n",
    "# load Apple stock price data, from: https://finance.yahoo.com/\n",
    "data = pd.read_csv(\"GOOG.csv\")\n",
    "\n",
    "# add the closing price of next day as a new column\n",
    "nextDayClosing = data[\"Close\"].iloc[1:]\n",
    "\n",
    "# delete last day wich has no closing price of next day\n",
    "data = data.iloc[:-1,]\n",
    "\n",
    "# add new column, named \"NextDay\", in the new pandas dataframe\n",
    "data[\"NextDay\"] = nextDayClosing.values\n",
    "\n",
    "# randomize the dataset to eleminate time seriers effect\n",
    "from sklearn.utils import shuffle\n",
    "data = shuffle(data)\n",
    "\n",
    "# another way to randomize dataset\n",
    "# data.sample(frac=1)"
   ]
  },
  {
   "cell_type": "code",
   "execution_count": 11,
   "metadata": {
    "collapsed": true
   },
   "outputs": [],
   "source": [
    "# fetch the related data\n",
    "x1_data = data[\"Open\"].values / 1000\n",
    "x2_data = data[\"High\"].values / 1000\n",
    "x3_data = data[\"Low\"].values / 1000\n",
    "x4_data = data[\"Close\"].values / 1000\n",
    "y_data = data[\"NextDay\"].values / 1000"
   ]
  },
  {
   "cell_type": "code",
   "execution_count": 12,
   "metadata": {},
   "outputs": [
    {
     "name": "stdout",
     "output_type": "stream",
     "text": [
      "('RMSE: ', 19.702387973666191)\n"
     ]
    }
   ],
   "source": [
    "import numpy as np\n",
    "import tensorflow as tf\n",
    "\n",
    "# build a model\n",
    "# input parameters\n",
    "x1 = tf.placeholder(tf.float32)\n",
    "x2 = tf.placeholder(tf.float32)\n",
    "x3 = tf.placeholder(tf.float32)\n",
    "x4 = tf.placeholder(tf.float32)\n",
    "\n",
    "# output parameters\n",
    "y = tf.placeholder(tf.float32)\n",
    "\n",
    "# weights and biase\n",
    "w1 = tf.Variable(tf.random_normal([1]), name='w1')\n",
    "w2 = tf.Variable(tf.random_normal([1]), name='w2')\n",
    "w3 = tf.Variable(tf.random_normal([1]), name='w3')\n",
    "w4 = tf.Variable(tf.random_normal([1]), name='w4')\n",
    "b = tf.Variable(tf.random_normal([1]), name='b')\n",
    "\n",
    "# hypothesis operations\n",
    "hypothesis = x1 * w1 + x2 * w2 + x3 * w3 + x4 * w4 + b\n",
    "\n",
    "# optimization process\n",
    "cost = tf.sqrt(tf.reduce_mean(tf.square(hypothesis - y)))\n",
    "optimizer = tf.train.GradientDescentOptimizer(learning_rate=1e-2)\n",
    "train=optimizer.minimize(cost)\n",
    "\n",
    "sess = tf.Session()\n",
    "sess.run(tf.global_variables_initializer())\n",
    "for step in range(20001):\n",
    "    cost_val, hy_val, _ = sess.run([cost, hypothesis, train], \n",
    "                        feed_dict={x1: x1_data, x2: x2_data, x3: x3_data, x4: x4_data, y: y_data})\n",
    "    if (step == 20000):\n",
    "        print(\"RMSE: \", cost_val * 1000)\n",
    "        #test_rmse = np.sqrt(sum(np.asarray(y_data * 1000 - hy_val * 1000) ** 2) / len(y_data))"
   ]
  },
  {
   "cell_type": "code",
   "execution_count": 13,
   "metadata": {},
   "outputs": [
    {
     "data": {
      "image/png": "[encoded data removed]",
      "text/plain": [
       "<matplotlib.figure.Figure at 0x7fcf752d6110>"
      ]
     },
     "metadata": {},
     "output_type": "display_data"
    }
   ],
   "source": [
    "import matplotlib.pyplot as plt\n",
    "\n",
    "# plot the True(red) and prediction(blue) value\n",
    "plt.scatter(range((50)), y_data[:50] * 1000, c = 'r', label='True Value')\n",
    "plt.scatter(range((50)), hy_val[:50] * 1000, c = 'blue', label='Prediction Value')\n",
    "plt.legend(loc = 1)\n",
    "plt.show()"
   ]
  },
  {
   "cell_type": "markdown",
   "metadata": {
    "collapsed": true
   },
   "source": [
    "### Model 4: Multivariate Linear Regression in Tensorflow\n",
    "#### Case 4: IBM"
   ]
  },
  {
   "cell_type": "code",
   "execution_count": 14,
   "metadata": {
    "collapsed": true
   },
   "outputs": [],
   "source": [
    "import pandas as pd\n",
    "\n",
    "# load Apple stock price data, from: https://finance.yahoo.com/\n",
    "data = pd.read_csv(\"IBM.csv\")\n",
    "\n",
    "# add the closing price of next day as a new column\n",
    "nextDayClosing = data[\"Close\"].iloc[1:]\n",
    "\n",
    "# delete last day wich has no closing price of next day\n",
    "data = data.iloc[:-1,]\n",
    "\n",
    "# add new column, named \"NextDay\", in the new pandas dataframe\n",
    "data[\"NextDay\"] = nextDayClosing.values\n",
    "\n",
    "# randomize the dataset to eleminate time seriers effect\n",
    "from sklearn.utils import shuffle\n",
    "data = shuffle(data)\n",
    "\n",
    "# another way to randomize dataset\n",
    "# data.sample(frac=1)"
   ]
  },
  {
   "cell_type": "code",
   "execution_count": 15,
   "metadata": {
    "collapsed": true
   },
   "outputs": [],
   "source": [
    "# record input and output data set, X and y are divided by 1000 to avoid overflowing problem\n",
    "X_data = data.iloc[:,1:5] / 1000\n",
    "y_data = data.iloc[:,7:] / 1000\n",
    "\n",
    "# transform to numpy matrix for efficient computation\n",
    "import numpy as np\n",
    "X_data = np.matrix(X_data)\n",
    "y_data = np.matrix(y_data)"
   ]
  },
  {
   "cell_type": "code",
   "execution_count": 16,
   "metadata": {},
   "outputs": [
    {
     "name": "stdout",
     "output_type": "stream",
     "text": [
      "(20000, 'RMSE: ', 5.5092037655413151)\n"
     ]
    }
   ],
   "source": [
    "import tensorflow as tf\n",
    "\n",
    "X = tf.placeholder(tf.float32, shape=[None, 4])\n",
    "y = tf.placeholder(tf.float32, shape=[None, 1])\n",
    "\n",
    "W = tf.Variable(tf.random_normal([4,1]), name='w')\n",
    "b = tf.Variable(tf.random_normal([1], name='b'))\n",
    "\n",
    "hypothesis = tf.matmul(X, W) + b\n",
    "\n",
    "cost = tf.sqrt(tf.reduce_mean(tf.square(tf.subtract(y, hypothesis))))\n",
    "optimizer = tf.train.GradientDescentOptimizer(learning_rate=1e-2)\n",
    "train=optimizer.minimize(cost)\n",
    "\n",
    "sess = tf.Session()\n",
    "sess.run(tf.global_variables_initializer())\n",
    "\n",
    "for step in range(20001):\n",
    "    cost_val, hy_val, _ = sess.run([cost, hypothesis, train], feed_dict={X: X_data, y: y_data})\n",
    "    if (step == 20000):\n",
    "        print(step, \"RMSE: \", cost_val * 1000)"
   ]
  },
  {
   "cell_type": "code",
   "execution_count": 17,
   "metadata": {},
   "outputs": [
    {
     "name": "stdout",
     "output_type": "stream",
     "text": [
      "5.50920398318\n"
     ]
    },
    {
     "data": {
      "image/png": "[encoded data removed]",
      "text/plain": [
       "<matplotlib.figure.Figure at 0x7fcf70246890>"
      ]
     },
     "metadata": {},
     "output_type": "display_data"
    }
   ],
   "source": [
    "rmse = np.sqrt(np.sum(np.square(y_data * 1000 - hy_val * 1000)) / len(y_data))\n",
    "print rmse\n",
    "\n",
    "import matplotlib.pyplot as plt\n",
    "\n",
    "# plot the True(red) and prediction(blue) value\n",
    "plt.scatter(range(50), y_data[:50] * 1000, c = 'r', label='True Value')\n",
    "plt.scatter(range(50), hy_val[:50] * 1000, c = 'blue', label='Prediction Value')\n",
    "plt.legend(loc = 1)\n",
    "plt.show()"
   ]
  }
 ],
 "metadata": {
  "kernelspec": {
   "display_name": "Python 2",
   "language": "python",
   "name": "python2"
  },
  "language_info": {
   "codemirror_mode": {
    "name": "ipython",
    "version": 2
   },
   "file_extension": ".py",
   "mimetype": "text/x-python",
   "name": "python",
   "nbconvert_exporter": "python",
   "pygments_lexer": "ipython2",
   "version": "2.7.12"
  }
 },
 "nbformat": 4,
 "nbformat_minor": 2
}
